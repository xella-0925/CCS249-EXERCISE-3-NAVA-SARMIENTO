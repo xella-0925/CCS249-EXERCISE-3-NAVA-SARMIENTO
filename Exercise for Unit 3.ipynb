{
 "cells": [
  {
   "cell_type": "code",
   "execution_count": 44,
   "id": "dc356b27-c0e4-4eae-a7af-10f47db8f12f",
   "metadata": {},
   "outputs": [],
   "source": [
    "import wikipedia\n",
    "import re\n",
    "import nltk\n",
    "from collections import Counter\n",
    "from nltk.util import bigrams, trigrams\n",
    "from nltk.tokenize import word_tokenize\n",
    "import math"
   ]
  },
  {
   "cell_type": "code",
   "execution_count": 49,
   "id": "00bc5548-5246-4f83-a212-8394941f40cb",
   "metadata": {},
   "outputs": [
    {
     "name": "stdout",
     "output_type": "stream",
     "text": [
      "kpop korean 케이팝 rr keipap short for korean popular music is a form of popular music originating in south korea it includes styles and genres from around the world such as pop hip hop rb rock jazz gospel reggae electronic dance folk country disco and classical on top of its traditional korean music roots the term kpop became popular in the 2000s especially in the international context the korean term for domestic pop music is gayo 가요 歌謠 which is still widely used within south korea while kpop can refer to all popular music or pop music from south korea the term is often used when referring to artists associated with the entertainment and idol industry in the country regardless of the genre of music output modern kpop idol culture began in the 1990s as kpop idol music grew into a subculture of south korean culture and amassed enormous fandoms of teenagers and young adults the more modern form of the genre originally termed rap dance emer\n"
     ]
    }
   ],
   "source": [
    "# Fetching the Wikipedia page for \"Kpop\"\n",
    "page = wikipedia.page(\"Kpop\")\n",
    "text = page.content[:1000]  # Limit to 1000 characters\n",
    "\n",
    "# Preprocess text: Remove punctuation and convert to lowercase\n",
    "text = re.sub(r'[^\\w\\s]', '', text).lower()\n",
    "\n",
    "# Tokenize text into individual words\n",
    "tokens = word_tokenize(text)\n",
    "\n",
    "# Print the cleaned and tokenized text\n",
    "print(\" \".join(tokens))"
   ]
  },
  {
   "cell_type": "code",
   "execution_count": 50,
   "id": "90d82a20-b619-4a76-ba01-3054948afb4a",
   "metadata": {},
   "outputs": [],
   "source": [
    "#  Compute bigram probabilities using Laplace smoothing\n",
    "\n",
    "def bigram_probabilities(tokens, alpha=1):\n",
    "    unigram_counts = Counter(tokens)  \n",
    "    bigram_counts = Counter(bigrams(tokens))  \n",
    "    vocab_size = len(unigram_counts) \n",
    "    \n",
    "    alpha_v = alpha * vocab_size  # Smoothing factor\n",
    "    \n",
    "    return {\n",
    "        bigram: (count + alpha) / (unigram_counts[bigram[0]] + alpha_v)\n",
    "        for bigram, count in bigram_counts.items()\n",
    "    }"
   ]
  },
  {
   "cell_type": "code",
   "execution_count": 51,
   "id": "13f0144f-036d-495b-b1f5-aae57fd27bd4",
   "metadata": {},
   "outputs": [],
   "source": [
    "#  Compute trigram probabilities using Laplace smoothing\n",
    "\n",
    "def trigram_probabilities(tokens, alpha=1):\n",
    "    bigram_counts = Counter(bigrams(tokens)) \n",
    "    trigram_counts = Counter(trigrams(tokens))  \n",
    "    vocab_size = len(set(tokens))  \n",
    "    \n",
    "    alpha_v = alpha * vocab_size  # Smoothing factor\n",
    "    \n",
    "    return {\n",
    "        trigram: (count + alpha) / (bigram_counts[(trigram[0], trigram[1])] + alpha_v)\n",
    "        for trigram, count in trigram_counts.items()\n",
    "        if (trigram[0], trigram[1]) in bigram_counts\n",
    "    }"
   ]
  },
  {
   "cell_type": "code",
   "execution_count": 52,
   "id": "8f4515c5-b6af-4a5e-8f5f-87af21156c6b",
   "metadata": {},
   "outputs": [],
   "source": [
    "def perplexity(model_probs, tokens, n):\n",
    "    ngram_list = list(bigrams(tokens)) if n == 2 else list(trigrams(tokens))\n",
    "    log_prob_sum = 0\n",
    "    for ngram in ngram_list:\n",
    "        prob = model_probs.get(ngram, 1e-10)  # Avoid zero probability issue\n",
    "        log_prob_sum += math.log(prob)\n",
    "    \n",
    "    return math.exp(-log_prob_sum / max(1, len(ngram_list)))"
   ]
  },
  {
   "cell_type": "code",
   "execution_count": 53,
   "id": "96ad43bf-f3e4-42b8-9e58-cfa27a8c6d17",
   "metadata": {},
   "outputs": [],
   "source": [
    "test_sentence = \"Kpop is enjoyed worldwide.\"\n",
    "\n",
    "test_tokens = word_tokenize(test_sentence.lower())"
   ]
  },
  {
   "cell_type": "code",
   "execution_count": 54,
   "id": "c428f1a4-1784-47f3-a9e9-0d4773194d78",
   "metadata": {},
   "outputs": [],
   "source": [
    "bigram_probs = bigram_probabilities(tokens)\n",
    "trigram_probs = trigram_probabilities(tokens)\n",
    "\n",
    "bigram_perplexity = perplexity(bigram_probs, tokens, 2)\n",
    "trigram_perplexity = perplexity(trigram_probs, tokens, 3)"
   ]
  },
  {
   "cell_type": "code",
   "execution_count": 55,
   "id": "4b34eef4-f7e2-4b10-8c21-91fd625e1a83",
   "metadata": {},
   "outputs": [
    {
     "name": "stdout",
     "output_type": "stream",
     "text": [
      "Bigram Perplexity: 46.70556278222009\n",
      "Trigram Perplexity: 49.37092567933589\n"
     ]
    }
   ],
   "source": [
    "print(\"Bigram Perplexity:\", bigram_perplexity)\n",
    "print(\"Trigram Perplexity:\", trigram_perplexity)"
   ]
  }
 ],
 "metadata": {
  "kernelspec": {
   "display_name": "Python 3 (ipykernel)",
   "language": "python",
   "name": "python3"
  },
  "language_info": {
   "codemirror_mode": {
    "name": "ipython",
    "version": 3
   },
   "file_extension": ".py",
   "mimetype": "text/x-python",
   "name": "python",
   "nbconvert_exporter": "python",
   "pygments_lexer": "ipython3",
   "version": "3.12.9"
  }
 },
 "nbformat": 4,
 "nbformat_minor": 5
}
